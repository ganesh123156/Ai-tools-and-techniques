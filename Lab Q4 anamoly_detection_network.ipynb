{
 "cells": [
  {
   "cell_type": "code",
   "execution_count": 1,
   "metadata": {},
   "outputs": [],
   "source": [
    "import numpy as np\n",
    "from scipy.io import loadmat\n",
    "from matplotlib import pyplot as plt"
   ]
  },
  {
   "cell_type": "code",
   "execution_count": 2,
   "metadata": {},
   "outputs": [],
   "source": [
    "#load the dataset\n",
    "data=loadmat(\"ex8data1.mat\")\n",
    "X=data['X']\n",
    "Xval=data['Xval']\n",
    "Yval=data['yval']"
   ]
  },
  {
   "cell_type": "code",
   "execution_count": 3,
   "metadata": {},
   "outputs": [
    {
     "data": {
      "text/plain": [
       "(307, 2)"
      ]
     },
     "execution_count": 3,
     "metadata": {},
     "output_type": "execute_result"
    }
   ],
   "source": [
    "X.shape"
   ]
  },
  {
   "cell_type": "code",
   "execution_count": 4,
   "metadata": {},
   "outputs": [
    {
     "data": {
      "text/plain": [
       "(307, 2)"
      ]
     },
     "execution_count": 4,
     "metadata": {},
     "output_type": "execute_result"
    }
   ],
   "source": [
    "Xval.shape"
   ]
  },
  {
   "cell_type": "code",
   "execution_count": 5,
   "metadata": {},
   "outputs": [
    {
     "data": {
      "text/plain": [
       "(307, 1)"
      ]
     },
     "execution_count": 5,
     "metadata": {},
     "output_type": "execute_result"
    }
   ],
   "source": [
    "Yval.shape"
   ]
  },
  {
   "cell_type": "code",
   "execution_count": 6,
   "metadata": {},
   "outputs": [
    {
     "data": {
      "text/plain": [
       "<matplotlib.collections.PathCollection at 0x7724f13b20>"
      ]
     },
     "execution_count": 6,
     "metadata": {},
     "output_type": "execute_result"
    },
    {
     "data": {
      "image/png": "[encoded data removed]",
      "text/plain": [
       "<Figure size 432x288 with 1 Axes>"
      ]
     },
     "metadata": {
      "needs_background": "light"
     },
     "output_type": "display_data"
    }
   ],
   "source": [
    "#plot scatter plot\n",
    "%matplotlib inline\n",
    "plt.scatter(X[:,0],X[:,1])"
   ]
  },
  {
   "cell_type": "code",
   "execution_count": 7,
   "metadata": {},
   "outputs": [
    {
     "data": {
      "text/plain": [
       "(array([14.11222578, 14.99771051]), array([1.83263141, 1.70974533]))"
      ]
     },
     "execution_count": 7,
     "metadata": {},
     "output_type": "execute_result"
    }
   ],
   "source": [
    "#Gausian distribution -Mean and variance\n",
    "mu=X.mean(axis=0)\n",
    "sigma=X.var(axis=0)\n",
    "mu,sigma"
   ]
  },
  {
   "cell_type": "code",
   "execution_count": 8,
   "metadata": {},
   "outputs": [
    {
     "data": {
      "text/plain": [
       "array([[13.04681517, 14.74115241],\n",
       "       [13.40852019, 13.7632696 ],\n",
       "       [14.19591481, 15.85318113],\n",
       "       [14.91470077, 16.17425987],\n",
       "       [13.57669961, 14.04284944],\n",
       "       [13.92240251, 13.40646894],\n",
       "       [12.82213164, 14.22318782],\n",
       "       [15.67636615, 15.89169137],\n",
       "       [16.16287532, 16.20299807],\n",
       "       [12.66645095, 14.89908374],\n",
       "       [13.98454962, 12.95800822],\n",
       "       [14.06146043, 14.54908874],\n",
       "       [13.38988671, 15.56202142],\n",
       "       [13.39350475, 15.62698794],\n",
       "       [13.97900926, 13.28061494],\n",
       "       [14.16791259, 14.46583829],\n",
       "       [13.96176145, 14.75182421],\n",
       "       [14.45899735, 15.07018563],\n",
       "       [14.58476372, 15.82743424],\n",
       "       [12.07427074, 13.0671109 ],\n",
       "       [13.5491294 , 15.53827677],\n",
       "       [13.98625042, 14.78776304],\n",
       "       [14.96991942, 16.51830493],\n",
       "       [14.25576597, 15.29427277],\n",
       "       [15.33425   , 16.12469989],\n",
       "       [15.6350487 , 16.49094477],\n",
       "       [13.62081292, 15.45947525],\n",
       "       [14.81548485, 15.33956527],\n",
       "       [14.59318973, 14.61238106],\n",
       "       [14.48906755, 15.64087368],\n",
       "       [15.52704801, 14.63568031],\n",
       "       [13.97506707, 14.76531533],\n",
       "       [12.95364954, 14.82328512],\n",
       "       [12.88787444, 15.0760781 ],\n",
       "       [16.02178961, 16.25746992],\n",
       "       [14.92629271, 16.29725072],\n",
       "       [12.465594  , 14.18321212],\n",
       "       [14.08466278, 14.44192203],\n",
       "       [14.53717523, 14.24224248],\n",
       "       [14.22250852, 15.42386188],\n",
       "       [14.51908496, 13.99871699],\n",
       "       [13.11971434, 14.66081846],\n",
       "       [14.51088894, 15.30465149],\n",
       "       [14.18262426, 15.39388968],\n",
       "       [14.71651845, 15.73369667],\n",
       "       [13.834547  , 16.17138034],\n",
       "       [16.00076179, 14.6923297 ],\n",
       "       [14.12702715, 15.91462775],\n",
       "       [13.84578547, 14.34139349],\n",
       "       [15.4142611 , 16.24243182],\n",
       "       [13.25273727, 15.00861364],\n",
       "       [13.66840226, 14.35886036],\n",
       "       [13.77534774, 14.73808512],\n",
       "       [14.12582343, 14.92980923],\n",
       "       [14.54724604, 15.63339445],\n",
       "       [14.15258077, 14.53622697],\n",
       "       [14.12648161, 15.34467591],\n",
       "       [14.26324658, 14.98556918],\n",
       "       [14.77324332, 15.25299474],\n",
       "       [14.20969934, 16.14572569],\n",
       "       [13.26065515, 15.48016214],\n",
       "       [14.25273351, 15.03134361],\n",
       "       [12.92124447, 13.1932154 ],\n",
       "       [13.85243129, 13.33213111],\n",
       "       [13.968568  , 13.19821237],\n",
       "       [13.25206982, 15.3684639 ],\n",
       "       [13.70449634, 13.21431302],\n",
       "       [14.50874721, 15.46051652],\n",
       "       [15.69042696, 16.48168852],\n",
       "       [12.95598192, 12.43703006],\n",
       "       [13.59312604, 14.84189903],\n",
       "       [15.12874639, 17.14981223],\n",
       "       [14.26705037, 15.67551974],\n",
       "       [15.66145055, 14.81146451],\n",
       "       [14.33962673, 15.49202298],\n",
       "       [14.27617655, 14.70590693],\n",
       "       [14.86049072, 15.59000779],\n",
       "       [14.1041448 , 15.18050456],\n",
       "       [15.98828286, 15.62105187],\n",
       "       [13.47473583, 15.59307142],\n",
       "       [13.77637601, 14.99194427],\n",
       "       [12.82770875, 15.67136907],\n",
       "       [13.67165486, 15.11954159],\n",
       "       [15.38704284, 15.56936935],\n",
       "       [15.54320934, 15.5154315 ],\n",
       "       [13.85306094, 15.60672437],\n",
       "       [13.62525246, 14.45209463],\n",
       "       [15.01577844, 14.91664093],\n",
       "       [13.83645753, 15.24940725],\n",
       "       [14.22694439, 14.34798436],\n",
       "       [13.23742625, 14.61058751],\n",
       "       [13.38482919, 14.7331933 ],\n",
       "       [13.87130103, 14.97399469],\n",
       "       [12.39445847, 14.64448217],\n",
       "       [14.32186558, 14.52890629],\n",
       "       [15.82965092, 15.71619455],\n",
       "       [15.80177302, 16.01808914],\n",
       "       [14.697512  , 14.11198749],\n",
       "       [14.70598657, 16.46040295],\n",
       "       [13.5915686 , 14.91975097],\n",
       "       [12.29984539, 14.77119468],\n",
       "       [13.39904748, 16.11912911],\n",
       "       [15.1311287 , 15.9003113 ],\n",
       "       [15.38581198, 15.71453967],\n",
       "       [15.45487422, 15.44042242],\n",
       "       [13.74951531, 15.26803136],\n",
       "       [15.69914333, 16.05595815],\n",
       "       [14.80580491, 14.33258926],\n",
       "       [15.17222943, 16.70624398],\n",
       "       [11.24915512, 15.13295896],\n",
       "       [13.88773907, 14.48548132],\n",
       "       [15.32587018, 16.58524064],\n",
       "       [12.97517063, 15.16056771],\n",
       "       [14.07427781, 17.21973519],\n",
       "       [14.18202564, 17.83351945],\n",
       "       [12.23970014, 14.72866834],\n",
       "       [14.82555961, 15.94500685],\n",
       "       [13.09763368, 16.230365  ],\n",
       "       [13.85758878, 15.03526838],\n",
       "       [15.52502523, 16.78653608],\n",
       "       [15.31499528, 14.56835428],\n",
       "       [14.03034874, 15.66336188],\n",
       "       [14.42312995, 14.94109335],\n",
       "       [13.63615119, 14.96411634],\n",
       "       [14.53477943, 13.35611764],\n",
       "       [14.61566224, 14.15241035],\n",
       "       [13.08085544, 14.02845941],\n",
       "       [14.93928678, 14.54933746],\n",
       "       [16.02712663, 15.7096583 ],\n",
       "       [14.31925037, 15.11762658],\n",
       "       [14.86153307, 14.28458412],\n",
       "       [14.01432033, 16.77971266],\n",
       "       [13.4076547 , 14.60041191],\n",
       "       [13.07959732, 14.19389917],\n",
       "       [12.68820689, 13.81109597],\n",
       "       [14.19232757, 15.36498179],\n",
       "       [14.86589365, 14.4713879 ],\n",
       "       [13.39350298, 14.34389893],\n",
       "       [13.58659143, 14.39148496],\n",
       "       [13.1021929 , 14.3760326 ],\n",
       "       [14.54176556, 16.37233995],\n",
       "       [14.25602703, 15.0423495 ],\n",
       "       [16.1875476 , 16.36145254],\n",
       "       [13.63292363, 13.62886894],\n",
       "       [14.65349335, 14.97649221],\n",
       "       [12.619118  , 16.77214314],\n",
       "       [13.0342773 , 14.25689091],\n",
       "       [10.85940052, 14.47914434],\n",
       "       [12.93486071, 14.60746678],\n",
       "       [13.99226766, 14.96212808],\n",
       "       [12.57248704, 15.1972735 ],\n",
       "       [15.68266703, 16.22123922],\n",
       "       [13.21258152, 14.35182737],\n",
       "       [13.98975002, 14.5244565 ],\n",
       "       [13.46626641, 13.65765529],\n",
       "       [13.13166385, 15.79882584],\n",
       "       [14.35439255, 15.02329268],\n",
       "       [13.55329411, 13.73218769],\n",
       "       [12.98628429, 14.80983707],\n",
       "       [14.37264883, 14.95148191],\n",
       "       [13.5886905 , 15.19778175],\n",
       "       [12.26002252, 15.61364104],\n",
       "       [13.66602494, 16.44517365],\n",
       "       [14.34554567, 15.44883765],\n",
       "       [14.60667498, 15.77655361],\n",
       "       [14.15369524, 16.57440586],\n",
       "       [14.04899502, 14.39078838],\n",
       "       [14.06857464, 14.62364257],\n",
       "       [15.88890082, 16.33705609],\n",
       "       [13.9760142 , 15.84206443],\n",
       "       [10.88221341, 13.46166188],\n",
       "       [13.90920312, 14.97657577],\n",
       "       [12.36776146, 15.14204982],\n",
       "       [15.16765639, 15.51933857],\n",
       "       [15.33769517, 14.23319145],\n",
       "       [13.5505769 , 15.73044061],\n",
       "       [13.57918657, 15.47264441],\n",
       "       [14.2447909 , 15.08509119],\n",
       "       [15.33086297, 15.71142599],\n",
       "       [15.91714893, 15.15651433],\n",
       "       [13.85421254, 15.32125758],\n",
       "       [14.08736591, 14.30728374],\n",
       "       [12.63610997, 15.65066102],\n",
       "       [14.36282756, 13.87195409],\n",
       "       [14.50066606, 14.61759025],\n",
       "       [13.96984547, 16.17341605],\n",
       "       [15.13133128, 15.28924849],\n",
       "       [15.15300231, 14.0136283 ],\n",
       "       [13.31011939, 14.39060275],\n",
       "       [14.25712173, 14.29705004],\n",
       "       [13.71613135, 13.5273347 ],\n",
       "       [15.70094058, 15.99611429],\n",
       "       [13.38943515, 14.36513423],\n",
       "       [14.14088666, 13.97440554],\n",
       "       [14.8448705 , 14.01695106],\n",
       "       [12.7048959 , 14.27293037],\n",
       "       [14.95353525, 14.73218902],\n",
       "       [14.28114118, 14.61262378],\n",
       "       [13.06799074, 14.83286345],\n",
       "       [13.602797  , 12.20295199],\n",
       "       [12.68816488, 15.81141681],\n",
       "       [13.88291728, 14.1180837 ],\n",
       "       [14.01648222, 14.33509982],\n",
       "       [15.3657655 , 15.82610475],\n",
       "       [13.57764756, 14.88045533],\n",
       "       [13.39189242, 14.34497756],\n",
       "       [13.6936209 , 15.9218994 ],\n",
       "       [12.87853442, 13.2017448 ],\n",
       "       [13.69916365, 15.4180007 ],\n",
       "       [14.01609081, 15.82165925],\n",
       "       [14.58996505, 16.38090675],\n",
       "       [15.00784342, 15.50954334],\n",
       "       [14.05950746, 13.75788684],\n",
       "       [14.46114684, 13.34425721],\n",
       "       [14.64474777, 15.03905866],\n",
       "       [13.85478898, 15.86614261],\n",
       "       [14.28141751, 14.02340696],\n",
       "       [14.93304554, 14.32639552],\n",
       "       [13.76930807, 16.5131053 ],\n",
       "       [13.44404345, 15.07922663],\n",
       "       [14.03179286, 14.40986664],\n",
       "       [13.8194684 , 15.58676798],\n",
       "       [16.50656641, 15.22029747],\n",
       "       [12.20423231, 14.32106065],\n",
       "       [14.88192989, 16.36162231],\n",
       "       [15.16031   , 15.14972042],\n",
       "       [11.78759609, 14.55034169],\n",
       "       [12.88388298, 14.57250348],\n",
       "       [13.62023706, 16.4236925 ],\n",
       "       [14.53049363, 15.44664319],\n",
       "       [12.64616608, 15.10838775],\n",
       "       [15.54763373, 16.43238821],\n",
       "       [14.40076998, 15.21258204],\n",
       "       [15.2105839 , 14.93547994],\n",
       "       [15.0617344 , 15.11740666],\n",
       "       [14.8621459 , 14.70177771],\n",
       "       [15.40451989, 15.34490712],\n",
       "       [13.79430575, 14.68727111],\n",
       "       [14.63390272, 16.30082804],\n",
       "       [12.45687581, 15.54617986],\n",
       "       [13.99759773, 16.73594542],\n",
       "       [12.93253734, 12.62389977],\n",
       "       [13.70345191, 14.71480993],\n",
       "       [13.12395594, 15.44848981],\n",
       "       [13.81691009, 14.09233539],\n",
       "       [13.02489337, 14.25050252],\n",
       "       [14.53425535, 15.76596517],\n",
       "       [13.2518626 , 16.32252319],\n",
       "       [13.23657555, 15.3369661 ],\n",
       "       [12.12971316, 12.66688846],\n",
       "       [14.38088736, 16.03087165],\n",
       "       [15.98239722, 15.52399453],\n",
       "       [13.7510791 , 13.64320738],\n",
       "       [13.35730012, 13.42431786],\n",
       "       [13.0855909 , 14.86775906],\n",
       "       [13.61173302, 14.86806414],\n",
       "       [15.17761737, 14.15354188],\n",
       "       [14.15456589, 15.28746898],\n",
       "       [13.22531906, 13.9598547 ],\n",
       "       [13.94151501, 14.76023193],\n",
       "       [15.39066479, 15.71412823],\n",
       "       [13.17642607, 13.67395694],\n",
       "       [13.38689006, 14.66536822],\n",
       "       [15.15888821, 14.78211271],\n",
       "       [14.55599225, 14.04946256],\n",
       "       [14.62692886, 14.29592015],\n",
       "       [13.28624407, 15.65812607],\n",
       "       [13.81548235, 14.17169431],\n",
       "       [14.31098964, 16.2541906 ],\n",
       "       [13.53597112, 15.77020127],\n",
       "       [14.80103055, 13.8181314 ],\n",
       "       [13.77274486, 14.64955361],\n",
       "       [13.76510157, 15.02311287],\n",
       "       [14.05349836, 13.93946896],\n",
       "       [15.3090539 , 16.04190605],\n",
       "       [13.15523771, 16.92122117],\n",
       "       [12.69940391, 13.99916734],\n",
       "       [14.36799225, 16.75782354],\n",
       "       [13.26325419, 14.09898706],\n",
       "       [11.91253509, 14.61325734],\n",
       "       [13.37000592, 15.18268143],\n",
       "       [15.99450697, 15.45329383],\n",
       "       [14.15764861, 13.77083847],\n",
       "       [14.96982662, 15.59222553],\n",
       "       [14.75068711, 15.46889188],\n",
       "       [13.3302792 , 14.34699591],\n",
       "       [13.05002153, 14.68726189],\n",
       "       [13.77642647, 14.23618564],\n",
       "       [15.17426585, 15.50957491],\n",
       "       [14.21251759, 15.08270517],\n",
       "       [13.82089483, 15.61146316],\n",
       "       [14.12355955, 14.95509754],\n",
       "       [14.54752171, 14.85861945],\n",
       "       [14.09944359, 16.031312  ],\n",
       "       [14.5773018 , 14.25667659],\n",
       "       [14.52331832, 14.23004999],\n",
       "       [14.30044704, 15.26643299],\n",
       "       [14.55839286, 15.48691914],\n",
       "       [14.22494187, 15.86117827],\n",
       "       [12.04029344, 13.3448335 ],\n",
       "       [13.07931049,  9.34787812],\n",
       "       [21.72713402,  4.12623222],\n",
       "       [12.47662882, 14.45936967],\n",
       "       [19.58257277, 10.411619  ],\n",
       "       [23.33986753, 16.29887355],\n",
       "       [18.26118844, 17.978309  ],\n",
       "       [ 4.75261282, 24.35040725]])"
      ]
     },
     "execution_count": 8,
     "metadata": {},
     "output_type": "execute_result"
    }
   ],
   "source": [
    "X"
   ]
  },
  {
   "cell_type": "code",
   "execution_count": 10,
   "metadata": {},
   "outputs": [],
   "source": [
    "from scipy import stats\n",
    "p=np.zeros((X.shape[0],X.shape[1])) #all 307 values initized to zero by taking new array p\n",
    "p[:,0]=stats.norm(mu[0],sigma[0]).pdf(X[:,0])\n",
    "p[:,1]=stats.norm(mu[1],sigma[1]).pdf(X[:,1])"
   ]
  },
  {
   "cell_type": "code",
   "execution_count": 11,
   "metadata": {},
   "outputs": [
    {
     "data": {
      "text/plain": [
       "(307, 2)"
      ]
     },
     "execution_count": 11,
     "metadata": {},
     "output_type": "execute_result"
    }
   ],
   "source": [
    "#let us find for xval\n",
    "pval=np.zeros((Xval.shape[0],Xval.shape[1]))\n",
    "pval[:,0]=stats.norm(mu[0],sigma[0]).pdf(Xval[:,0])\n",
    "pval[:,1]=stats.norm(mu[1],sigma[1]).pdf(Xval[:,1])\n",
    "pval.shape"
   ]
  },
  {
   "cell_type": "code",
   "execution_count": 12,
   "metadata": {},
   "outputs": [
    {
     "name": "stderr",
     "output_type": "stream",
     "text": [
      "<ipython-input-12-de8e75a0f249>:13: RuntimeWarning: invalid value encountered in double_scalars\n",
      "  precision=tp/(tp+fp)\n"
     ]
    },
    {
     "data": {
      "text/plain": [
       "(0.009566706005956842, 0.7142857142857143)"
      ]
     },
     "execution_count": 12,
     "metadata": {},
     "output_type": "execute_result"
    }
   ],
   "source": [
    "#find the threshold\n",
    "def select_threshold(pval,yval):\n",
    "    best_epsilon=0\n",
    "    best_f1=0\n",
    "    f1=0\n",
    "    step=(pval.max()-pval.min())/1000\n",
    "    for epsilon in np.arange(pval.min(),pval.max(),step):\n",
    "        preds=pval<epsilon\n",
    "        tp=np.sum(np.logical_and(preds==1,yval==1)).astype(float)                           \n",
    "        fp=np.sum(np.logical_and(preds==1,yval==0)).astype(float)\n",
    "        fn=np.sum(np.logical_and(preds==0,yval==1)).astype(float)\n",
    " \n",
    "        precision=tp/(tp+fp)\n",
    "        recall=tp/(tp+fn)\n",
    "        f1=(2*precision*recall)/(precision+recall)\n",
    " \n",
    "        if f1>best_f1:\n",
    "           best_f1=f1\n",
    "           best_epsilon=epsilon\n",
    " \n",
    "    return best_epsilon,best_f1\n",
    "\n",
    "epsilon,f1=select_threshold(pval,Yval)\n",
    "\n",
    "epsilon,f1"
   ]
  },
  {
   "cell_type": "code",
   "execution_count": 13,
   "metadata": {},
   "outputs": [
    {
     "data": {
      "text/plain": [
       "<matplotlib.collections.PathCollection at 0x7726423f70>"
      ]
     },
     "execution_count": 13,
     "metadata": {},
     "output_type": "execute_result"
    },
    {
     "data": {
      "image/png": "[encoded data removed]",
      "text/plain": [
       "<Figure size 432x288 with 1 Axes>"
      ]
     },
     "metadata": {
      "needs_background": "light"
     },
     "output_type": "display_data"
    }
   ],
   "source": [
    "#find outlier\n",
    "%matplotlib inline\n",
    "outliers=np.where(p<epsilon)\n",
    "plt.scatter(X[:,0],X[:,1])\n",
    "plt.scatter(X[outliers[0],0],X[outliers[0],1],color='r',s=70)"
   ]
  },
  {
   "cell_type": "code",
   "execution_count": null,
   "metadata": {},
   "outputs": [],
   "source": []
  }
 ],
 "metadata": {
  "kernelspec": {
   "display_name": "Python 3",
   "language": "python",
   "name": "python3"
  },
  "language_info": {
   "codemirror_mode": {
    "name": "ipython",
    "version": 3
   },
   "file_extension": ".py",
   "mimetype": "text/x-python",
   "name": "python",
   "nbconvert_exporter": "python",
   "pygments_lexer": "ipython3",
   "version": "3.8.3"
  }
 },
 "nbformat": 4,
 "nbformat_minor": 4
}
